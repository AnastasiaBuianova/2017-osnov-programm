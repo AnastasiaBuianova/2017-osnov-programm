{
 "cells": [
  {
   "cell_type": "code",
   "execution_count": 35,
   "metadata": {
    "collapsed": true,
    "deletable": true,
    "editable": true
   },
   "outputs": [],
   "source": [
    "import sys\n",
    "import re"
   ]
  },
  {
   "cell_type": "code",
   "execution_count": 41,
   "metadata": {
    "collapsed": false,
    "deletable": true,
    "editable": true
   },
   "outputs": [],
   "source": [
    "file = open('50_sentences.txt', 'r', encoding='utf-8')\n",
    "new_file = open('50sent.txt', 'w', encoding='utf-8')\n",
    "\n",
    "for word in file:\n",
    "    word = word.strip().split(' ')\n",
    "    for w in word:\n",
    "        w = re.sub('([?!,.—:;()-])', '', w)\n",
    "        #print(w.lower())\n",
    "    for item in word:\n",
    "        new_file.write(item.lower() + '\\t' + '\\n')\n",
    "    \n",
    "new_file.close()\n",
    "file.close()"
   ]
  },
  {
   "cell_type": "code",
   "execution_count": null,
   "metadata": {
    "collapsed": true
   },
   "outputs": [],
   "source": []
  }
 ],
 "metadata": {
  "kernelspec": {
   "display_name": "Python 3",
   "language": "python",
   "name": "python3"
  },
  "language_info": {
   "codemirror_mode": {
    "name": "ipython",
    "version": 3
   },
   "file_extension": ".py",
   "mimetype": "text/x-python",
   "name": "python",
   "nbconvert_exporter": "python",
   "pygments_lexer": "ipython3",
   "version": "3.6.1"
  }
 },
 "nbformat": 4,
 "nbformat_minor": 2
}
