{
 "cells": [
  {
   "cell_type": "code",
   "execution_count": 1,
   "metadata": {
    "collapsed": true,
    "deletable": true,
    "editable": true
   },
   "outputs": [],
   "source": [
    "import sys\n",
    "import re\n",
    "import nltk\n",
    "from nltk import tokenize"
   ]
  },
  {
   "cell_type": "code",
   "execution_count": null,
   "metadata": {
    "collapsed": true
   },
   "outputs": [],
   "source": [
    "#Первый вариант - нечестный\n",
    "file = open('wiki.txt', 'r', encoding='utf-8')\n",
    "\n",
    "for paragraph in file:    \n",
    "    s = tokenize.sent_tokenize(paragraph)\n",
    "    paragraphs.append(s)\n",
    "    print (paragraphs)\n",
    "\n",
    "file.close()"
   ]
  },
  {
   "cell_type": "code",
   "execution_count": null,
   "metadata": {
    "collapsed": false,
    "deletable": true,
    "editable": true
   },
   "outputs": [],
   "source": [
    "#Второй вариант - честный\n",
    "\n",
    "file = open('wiki.txt', 'r', encoding='utf-8')\n",
    "lines = []\n",
    "abbreviations = {'с. ш.':'#1#', 'з. д.':'#2#'}\n",
    "abbreviations2 = {'т.є.':'#1#', 'т. є.':'#2#', 'т. з.':'#3#', 'т.з.':'#4#', 'ітд.':'#5#'}\n",
    "\n",
    "for paragraph in file:\n",
    "    paragraph = re.sub(r'([0-9]+)\\.', r'\\1[ORD]', paragraph)\n",
    "    for key, value in abbreviations.items():\n",
    "        paragraph = paragraph.replace(key, value)\n",
    "    lines.append(paragraph)\n",
    "    #print('###', lines)\n",
    "    \n",
    "    for line in lines:\n",
    "        line = re.sub('[.]', '.$', line)\n",
    "        sentences = line.split('$ ')        \n",
    "    \n",
    "        for s in sentences:\n",
    "            s = re.sub(r'\\[ORD\\]', '.', s)\n",
    "            for key, value in abbreviations.items():\n",
    "                s = s.replace(value, key)\n",
    "                print (s)\n",
    "\n",
    "\n",
    "file.close()"
   ]
  },
  {
   "cell_type": "code",
   "execution_count": null,
   "metadata": {
    "collapsed": true,
    "deletable": true,
    "editable": true
   },
   "outputs": [],
   "source": [
    "#It's for me\n",
    "'''\n",
    "for sentence in file:\n",
    "    #sentence = sentence.strip()\n",
    "    for words in sentence:\n",
    "        for key, value in abbreviations.items():\n",
    "            if words == key:\n",
    "                place = sentence.index(words)\n",
    "                sentence.remove(words)\n",
    "                sentence.insert(place, value)\n",
    "            sentence = re.sub('[.]', '.$', sentence)\n",
    "    #sentence = re.sub('[!]', '!$', sentence)\n",
    "    #sentence = re.sub('[?]', '?$', sentence)\n",
    "    #sentence = sentence.split('$ ')\n",
    "    sentences.append(sentence)\n",
    "\n",
    "file.close()\n",
    "'''"
   ]
  }
 ],
 "metadata": {
  "kernelspec": {
   "display_name": "Python 3",
   "language": "python",
   "name": "python3"
  },
  "language_info": {
   "codemirror_mode": {
    "name": "ipython",
    "version": 3
   },
   "file_extension": ".py",
   "mimetype": "text/x-python",
   "name": "python",
   "nbconvert_exporter": "python",
   "pygments_lexer": "ipython3",
   "version": "3.6.1"
  }
 },
 "nbformat": 4,
 "nbformat_minor": 0
}
